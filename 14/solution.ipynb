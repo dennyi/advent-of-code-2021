{
 "cells": [
  {
   "cell_type": "code",
   "execution_count": 1,
   "metadata": {},
   "outputs": [],
   "source": [
    "import numpy as np\n",
    "import colorama\n",
    "import regex as re\n",
    "import math"
   ]
  },
  {
   "cell_type": "code",
   "execution_count": 2,
   "metadata": {},
   "outputs": [
    {
     "name": "stdout",
     "output_type": "stream",
     "text": [
      "3555\n"
     ]
    }
   ],
   "source": [
    "file1 = open('input.txt', 'r')\n",
    "lines = file1.read().split('\\n')\n",
    "\n",
    "template = lines.pop(0)\n",
    "lines.pop(0) #remove blank line\n",
    "\n",
    "insertion_rules = [ tuple(rule.split(\" -> \")) for rule in lines ]\n",
    "\n",
    "for i in range(10):\n",
    "    step_inserts = []\n",
    "    for rule in insertion_rules:\n",
    "        for insert in re.finditer(rule[0], template, overlapped=True):\n",
    "            step_inserts.append(tuple([rule[1],insert.start()+1]))\n",
    "\n",
    "    step_inserts.sort(key=lambda x:x[1], reverse=True)\n",
    " \n",
    "    for insert in step_inserts:\n",
    "        template = template[:insert[1]] + insert[0] + template[insert[1]:]\n",
    "  \n",
    "char_counts = {}\n",
    "for char in template:\n",
    "    if char not in char_counts:\n",
    "        char_counts[char] = 1\n",
    "    else:\n",
    "        char_counts[char] += 1\n",
    "\n",
    "most_occured = (None, 0)\n",
    "least_occured = (None, 99999999999)\n",
    "for key, value in char_counts.items():\n",
    "    if(value > most_occured[1]):\n",
    "        most_occured = (key, value)\n",
    "    if(value < least_occured[1]):\n",
    "        least_occured = (key, value)\n",
    "\n",
    "\n",
    "print(most_occured[1] - least_occured[1])\n",
    "\n",
    "\n",
    "        \n",
    "\n",
    "\n",
    "\n",
    "# print(template, insertion_rules)"
   ]
  },
  {
   "cell_type": "code",
   "execution_count": 149,
   "metadata": {},
   "outputs": [
    {
     "name": "stdout",
     "output_type": "stream",
     "text": [
      "4439442043739\n",
      "{'P': 3178628005224.5, 'H': 1378718959755.0, 'V': 2501671713686.0, 'C': 755642661164.0, 'B': 1750740691551.0, 'F': 2014715170153.0, 'K': 927295863022.0, 'N': 1322198384438.0, 'O': 5195084704902.5, 'S': 1866024773848.0}\n"
     ]
    }
   ],
   "source": [
    "file1 = open('input.txt', 'r')\n",
    "lines = file1.read().split('\\n')\n",
    "\n",
    "template_string = lines.pop(0)\n",
    "template = {}\n",
    "for i in range(len(template_string)-1):\n",
    "    if template_string[i:i+2] not in template:\n",
    "        template[template_string[i:i+2]] = 1\n",
    "    else:\n",
    "        template[template_string[i:i+2]] += 1\n",
    "\n",
    "lines.pop(0) #remove blank line\n",
    "insertion_rules = [ tuple(rule.split(\" -> \")) for rule in lines ]\n",
    "\n",
    "\n",
    "for step in range(40):\n",
    "    new_template = template.copy()\n",
    "    new_pairs = {}\n",
    "    for rule in  insertion_rules:\n",
    "        if rule[0] in template and template[rule[0]] > 0:\n",
    "            new_template[rule[0]] = 0\n",
    "            new_pair_string = rule[0][0] + rule[1] + rule[0][1]\n",
    "            # print(f\"{rule[0]} = 0\")\n",
    "            for i in range(len(new_pair_string)-1):\n",
    "                if new_pair_string[i:i+2] not in new_pairs:\n",
    "                    # print(f\"{new_pair_string[i:i+2]} = {template[rule[0]]}\")\n",
    "                    new_pairs[new_pair_string[i:i+2]] = template[rule[0]]\n",
    "                else:\n",
    "                    # print(f\"{new_pair_string[i:i+2]} += {template[rule[0]]}\")\n",
    "                    new_pairs[new_pair_string[i:i+2]] += template[rule[0]]\n",
    "    for pair in new_pairs:\n",
    "        new_template[pair] = new_pairs[pair]\n",
    "    template = new_template\n",
    "\n",
    "char_counts = {}\n",
    "template_length = 0\n",
    "for pair in template:\n",
    "    for char in pair:\n",
    "        if char not in char_counts:\n",
    "            char_counts[char] =  template[pair]/2\n",
    "        else:\n",
    "            char_counts[char] +=  template[pair]/2\n",
    "\n",
    "for char in char_counts:\n",
    "    template_length += math.ceil(char_counts[char])\n",
    "\n",
    "most_occured = (None, 0)\n",
    "least_occured = (None, 999999999999999999999999999999999999)\n",
    "for key, value in char_counts.items():\n",
    "    if(value > most_occured[1]):\n",
    "        most_occured = (key, value)\n",
    "    if(value < least_occured[1]):\n",
    "        least_occured = (key, value)\n",
    "\n",
    "\n",
    "print(math.ceil(most_occured[1] - least_occured[1]))\n",
    "print(char_counts)\n",
    "        # "
   ]
  }
 ],
 "metadata": {
  "interpreter": {
   "hash": "1604f67193f19b8ce18236368d780003becd5f36dc70c5000bb869999753e6a7"
  },
  "kernelspec": {
   "display_name": "Python 3.8.10 64-bit (windows store)",
   "language": "python",
   "name": "python3"
  },
  "language_info": {
   "codemirror_mode": {
    "name": "ipython",
    "version": 3
   },
   "file_extension": ".py",
   "mimetype": "text/x-python",
   "name": "python",
   "nbconvert_exporter": "python",
   "pygments_lexer": "ipython3",
   "version": "3.8.3"
  },
  "orig_nbformat": 4
 },
 "nbformat": 4,
 "nbformat_minor": 2
}
