{
 "cells": [
  {
   "cell_type": "code",
   "execution_count": 232,
   "metadata": {},
   "outputs": [],
   "source": [
    "import numpy as np"
   ]
  },
  {
   "cell_type": "code",
   "execution_count": 233,
   "metadata": {},
   "outputs": [
    {
     "name": "stdout",
     "output_type": "stream",
     "text": [
      "[50, 68, 2, 1, 69, 32, 87, 10, 31, 21, 78, 23, 62, 98, 16, 99, 65, 35, 27, 96, 66, 26, 74, 72, 45, 52, 81, 60, 38, 57, 54, 19, 18, 77, 71, 29, 51, 41, 22, 6, 58, 5, 42, 92, 85, 64, 94, 12, 83, 11, 17, 14, 37, 36, 59, 33, 0, 93, 34, 70, 97, 7, 76, 20, 3, 88, 43, 47, 8, 79, 80, 63, 9, 25, 56, 75, 15, 4, 82, 67, 39, 30, 89, 86, 46, 90, 48, 73, 91, 55, 95, 28, 49, 61, 44, 84, 40, 53, 13, 24]\n"
     ]
    }
   ],
   "source": [
    "file1 = open('input.txt', 'r')\n",
    "lines = file1.read().split('\\n')\n",
    "numbers = [int(x) for x in lines.pop(0).split(',')]"
   ]
  },
  {
   "cell_type": "code",
   "execution_count": 234,
   "metadata": {},
   "outputs": [],
   "source": [
    "#prepare grids\n",
    "grids = []\n",
    "grid_marks=[]\n",
    "new_grid = np.empty((5,5))\n",
    "new_line_row = 0\n",
    "lines_copy = lines.copy()\n",
    "#fill grids\n",
    "\n",
    "while lines_copy:\n",
    "    line = lines_copy.pop(0)\n",
    "    line = line.split()\n",
    "    if len(line) == 5:\n",
    "        new_row = [int(x) for x in line]\n",
    "        new_grid[new_line_row,:] = new_row\n",
    "        new_line_row += 1\n",
    "    elif line == [] and new_line_row == 5:\n",
    "        grids.append(new_grid)\n",
    "        new_grid = np.zeros((5,5))\n",
    "        grid_marks.append(np.zeros((5,5)))\n",
    "        new_line_row = 0\n",
    "    elif line == [] and new_line_row == 0:\n",
    "        pass\n",
    "    else:\n",
    "        print(\"Array wrong size\", new_grid)\n",
    "        break\n",
    "grids.append(new_grid)\n",
    "grid_marks.append(np.zeros((5,5)))"
   ]
  },
  {
   "cell_type": "code",
   "execution_count": 235,
   "metadata": {},
   "outputs": [],
   "source": [
    "def mark_number_in_grid(grid, grid_marks, number):\n",
    "    grid_marks[np.where(grid == number)] = 1\n"
   ]
  },
  {
   "cell_type": "code",
   "execution_count": 236,
   "metadata": {},
   "outputs": [],
   "source": [
    "def is_grid_complete(grid_marks):\n",
    "    if(grid_marks.shape[0] != grid_marks.shape[1]):\n",
    "        print(\"Grid shape not correct\")\n",
    "\n",
    "    for i in range(0, grid_marks.shape[0]):\n",
    "        #check rows\n",
    "        if(np.sum(grid_marks[i,:]) == grid_marks.shape[0]):\n",
    "            return True\n",
    "        if(np.sum(grid_marks[:,i]) == grid_marks.shape[0]):\n",
    "            return True\n",
    "    return False"
   ]
  },
  {
   "cell_type": "code",
   "execution_count": 237,
   "metadata": {},
   "outputs": [],
   "source": [
    "def calculate_board_score(grid, grid_marks, last_number):\n",
    "    not_marked_indexes = np.where(grid_marks == 0)\n",
    "    score = last_number * np.sum(grid[not_marked_indexes])\n",
    "    return score"
   ]
  },
  {
   "cell_type": "code",
   "execution_count": 238,
   "metadata": {},
   "outputs": [],
   "source": [
    "first_winner_found = False\n",
    "winner = None\n",
    "last_number = None\n",
    "last_winner = None\n",
    "last_winner_number = None\n",
    "score = None\n",
    "last_winner_score = None\n",
    "complete_boards_arr = []\n",
    "complete_boards = 0\n",
    "for x in numbers:\n",
    "    #mark all numbers in all grids\n",
    "    for i in range(0, len(grids)):\n",
    "        mark_number_in_grid(grids[i], grid_marks[i], x)\n",
    "    #check if any grid wins\n",
    "    for i in range(0, len(grids)):\n",
    "        if is_grid_complete(grid_marks[i]) and not(i in complete_boards_arr):\n",
    "            complete_boards += 1\n",
    "            complete_boards_arr.append(i)\n",
    "            last_number = x\n",
    "            winner = i\n",
    "            if first_winner_found == False:\n",
    "                first_winner_found = True\n",
    "                score = calculate_board_score(grids[winner], grid_marks[winner], last_number)\n",
    "            if(complete_boards == len(grids)):\n",
    "                last_winner = i\n",
    "                last_winner_number = x\n",
    "                last_winner_score = calculate_board_score(grids[last_winner], grid_marks[last_winner], x)\n",
    "                break\n",
    "    if winner != None and last_winner != None:\n",
    "        break"
   ]
  },
  {
   "cell_type": "code",
   "execution_count": 239,
   "metadata": {},
   "outputs": [
    {
     "name": "stdout",
     "output_type": "stream",
     "text": [
      "winner_score=87456.0\n",
      "last_winner_score=15561.0\n"
     ]
    }
   ],
   "source": [
    "\n",
    "print(f\"winner_score={score}\")\n",
    "\n",
    "print(f\"last_winner_score={last_winner_score}\" )"
   ]
  },
  {
   "cell_type": "code",
   "execution_count": null,
   "metadata": {},
   "outputs": [],
   "source": []
  }
 ],
 "metadata": {
  "interpreter": {
   "hash": "1604f67193f19b8ce18236368d780003becd5f36dc70c5000bb869999753e6a7"
  },
  "kernelspec": {
   "display_name": "Python 3.8.10 64-bit (windows store)",
   "language": "python",
   "name": "python3"
  },
  "language_info": {
   "codemirror_mode": {
    "name": "ipython",
    "version": 3
   },
   "file_extension": ".py",
   "mimetype": "text/x-python",
   "name": "python",
   "nbconvert_exporter": "python",
   "pygments_lexer": "ipython3",
   "version": "3.8.3"
  },
  "orig_nbformat": 4
 },
 "nbformat": 4,
 "nbformat_minor": 2
}
