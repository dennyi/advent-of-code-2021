{
 "cells": [
  {
   "cell_type": "code",
   "execution_count": 12,
   "metadata": {},
   "outputs": [
    {
     "name": "stdout",
     "output_type": "stream",
     "text": [
      "2003 869681\n",
      "1741971043\n"
     ]
    }
   ],
   "source": [
    "file1 = open('input.txt', 'r')\n",
    "lines = file1.readlines()\n",
    "\n",
    "\n",
    "\n",
    "x = 0\n",
    "y = 0\n",
    "\n",
    "for line in lines:\n",
    "    command = line.split()\n",
    "    direction = command[0]\n",
    "    amount = int(command[1])\n",
    "    if(direction == \"forward\"):\n",
    "        x += amount\n",
    "    elif(direction == \"down\"):\n",
    "        y += amount\n",
    "    elif(direction == \"up\"):\n",
    "        y -= amount\n",
    "\n",
    "print(x , y )\n",
    "print( x * y)\n",
    "   "
   ]
  },
  {
   "cell_type": "code",
   "execution_count": null,
   "metadata": {},
   "outputs": [],
   "source": [
    "file1 = open('input.txt', 'r')\n",
    "lines = file1.readlines()\n",
    "\n",
    "\n",
    "x = 0\n",
    "y = 0\n",
    "aim = 0\n",
    "\n",
    "for line in lines:\n",
    "    command = line.split()\n",
    "    direction = command[0]\n",
    "    amount = int(command[1])\n",
    "    if(direction == \"forward\"):\n",
    "        x += amount\n",
    "        y += aim * amount\n",
    "    elif(direction == \"down\"):\n",
    "        aim += amount\n",
    "    elif(direction == \"up\"):\n",
    "        aim -= amount\n",
    "\n",
    "print(x , y )\n",
    "print( x * y)\n",
    "   "
   ]
  }
 ],
 "metadata": {
  "interpreter": {
   "hash": "1604f67193f19b8ce18236368d780003becd5f36dc70c5000bb869999753e6a7"
  },
  "kernelspec": {
   "display_name": "Python 3.8.10 64-bit (windows store)",
   "language": "python",
   "name": "python3"
  },
  "language_info": {
   "codemirror_mode": {
    "name": "ipython",
    "version": 3
   },
   "file_extension": ".py",
   "mimetype": "text/x-python",
   "name": "python",
   "nbconvert_exporter": "python",
   "pygments_lexer": "ipython3",
   "version": "3.8.3"
  },
  "orig_nbformat": 4
 },
 "nbformat": 4,
 "nbformat_minor": 2
}
