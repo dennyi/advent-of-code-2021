{
 "cells": [
  {
   "cell_type": "code",
   "execution_count": 173,
   "metadata": {},
   "outputs": [
    {
     "name": "stdout",
     "output_type": "stream",
     "text": [
      "beginning ('y', 447) (894, 655)\n",
      "beginning ('y', 223) (446, 327)\n",
      "beginning ('y', 111) (222, 163)\n",
      "beginning ('y', 55) (110, 81)\n",
      "beginning ('y', 27) (54, 40)\n",
      "beginning ('y', 13) (26, 40)\n",
      "beginning ('y', 6) (12, 40)\n",
      "[[\u001b[32m8.0 \u001b[32m8.0 \u001b[32m8.0 \u001b[31m0.0 \u001b[31m0.0 \u001b[32m8.0 \u001b[32m8.0 \u001b[32m8.0 \u001b[32m8.0 \u001b[31m0.0 \u001b[32m8.0 \u001b[31m0.0 \u001b[31m0.0 \u001b[32m8.0 \u001b[31m0.0 \u001b[32m8.0 \u001b[31m0.0 \u001b[32m8.0 \u001b[32m8.0 \u001b[31m0.0 \u001b[32m8.0 \u001b[32m8.0 \u001b[32m8.0 \u001b[32m8.0 \u001b[31m0.0 \u001b[32m8.0 \u001b[32m8.0 \u001b[31m0.0 \u001b[32m8.0 \u001b[31m0.0 \u001b[32m8.0 \u001b[32m8.0 \u001b[31m0.0 \u001b[32m8.0 \u001b[31m0.0 \u001b[32m8.0 \u001b[32m8.0 \u001b[32m8.0 \u001b[32m8.0 \u001b[31m0.0]\n",
      " [\u001b[32m8.0 \u001b[32m8.0 \u001b[31m0.0 \u001b[31m0.0 \u001b[31m0.0 \u001b[32m8.0 \u001b[31m0.0 \u001b[31m0.0 \u001b[32m8.0 \u001b[31m0.0 \u001b[32m8.0 \u001b[32m8.0 \u001b[32m8.0 \u001b[32m8.0 \u001b[31m0.0 \u001b[32m8.0 \u001b[32m8.0 \u001b[31m0.0 \u001b[31m0.0 \u001b[31m0.0 \u001b[32m8.0 \u001b[31m0.0 \u001b[31m0.0 \u001b[32m8.0 \u001b[31m0.0 \u001b[32m8.0 \u001b[32m8.0 \u001b[32m8.0 \u001b[31m0.0 \u001b[31m0.0 \u001b[32m8.0 \u001b[31m0.0 \u001b[31m0.0 \u001b[32m8.0 \u001b[31m0.0 \u001b[32m8.0 \u001b[31m0.0 \u001b[31m0.0 \u001b[32m8.0 \u001b[31m0.0]\n",
      " [\u001b[32m8.0 \u001b[32m8.0 \u001b[32m8.0 \u001b[31m0.0 \u001b[31m0.0 \u001b[32m8.0 \u001b[32m8.0 \u001b[32m8.0 \u001b[32m8.0 \u001b[31m0.0 \u001b[32m8.0 \u001b[32m8.0 \u001b[32m8.0 \u001b[32m8.0 \u001b[31m0.0 \u001b[32m8.0 \u001b[32m8.0 \u001b[32m8.0 \u001b[31m0.0 \u001b[31m0.0 \u001b[32m8.0 \u001b[32m8.0 \u001b[32m8.0 \u001b[32m8.0 \u001b[31m0.0 \u001b[32m8.0 \u001b[32m8.0 \u001b[32m8.0 \u001b[31m0.0 \u001b[31m0.0 \u001b[32m8.0 \u001b[31m0.0 \u001b[31m0.0 \u001b[31m0.0 \u001b[31m0.0 \u001b[32m8.0 \u001b[32m8.0 \u001b[32m8.0 \u001b[32m8.0 \u001b[31m0.0]\n",
      " [\u001b[32m8.0 \u001b[31m0.0 \u001b[31m0.0 \u001b[31m0.0 \u001b[31m0.0 \u001b[32m8.0 \u001b[32m8.0 \u001b[32m8.0 \u001b[32m8.0 \u001b[31m0.0 \u001b[32m8.0 \u001b[31m0.0 \u001b[31m0.0 \u001b[32m8.0 \u001b[31m0.0 \u001b[32m8.0 \u001b[31m0.0 \u001b[32m8.0 \u001b[31m0.0 \u001b[31m0.0 \u001b[32m8.0 \u001b[32m8.0 \u001b[32m8.0 \u001b[31m0.0 \u001b[31m0.0 \u001b[32m8.0 \u001b[31m0.0 \u001b[31m0.0 \u001b[31m0.0 \u001b[31m0.0 \u001b[32m8.0 \u001b[31m0.0 \u001b[31m0.0 \u001b[31m0.0 \u001b[31m0.0 \u001b[32m8.0 \u001b[32m8.0 \u001b[31m0.0 \u001b[31m0.0 \u001b[31m0.0]\n",
      " [\u001b[32m8.0 \u001b[32m8.0 \u001b[32m8.0 \u001b[32m8.0 \u001b[31m0.0 \u001b[32m8.0 \u001b[31m0.0 \u001b[31m0.0 \u001b[32m8.0 \u001b[31m0.0 \u001b[32m8.0 \u001b[31m0.0 \u001b[31m0.0 \u001b[32m8.0 \u001b[31m0.0 \u001b[32m8.0 \u001b[31m0.0 \u001b[32m8.0 \u001b[32m8.0 \u001b[31m0.0 \u001b[32m8.0 \u001b[31m0.0 \u001b[32m8.0 \u001b[32m8.0 \u001b[31m0.0 \u001b[32m8.0 \u001b[32m8.0 \u001b[32m8.0 \u001b[31m0.0 \u001b[31m0.0 \u001b[32m8.0 \u001b[32m8.0 \u001b[32m8.0 \u001b[32m8.0 \u001b[31m0.0 \u001b[32m8.0 \u001b[31m0.0 \u001b[31m0.0 \u001b[31m0.0 \u001b[31m0.0]]\n"
     ]
    }
   ],
   "source": [
    "file1 = open('input.txt', 'r')\n",
    "lines = file1.read().split('\\n')\n",
    "\n",
    "dots = []\n",
    "folds = []\n",
    "max_x = 0\n",
    "max_y = 0\n",
    "for line in lines:\n",
    "    if(line == \"\"):\n",
    "        continue\n",
    "    if(line.startswith(\"fold along \")):\n",
    "        fold = line.replace(\"fold along \", \"\").split(\"=\")\n",
    "        folds.append(tuple([fold[0], int(fold[1])]))\n",
    "    else:\n",
    "        dot = line.split(\",\")\n",
    "        dot = tuple([int(dot[0]), int(dot[1])])\n",
    "        dots.append(dot)\n",
    "        if(dot[0] > max_x): \n",
    "            max_x = dot[0]\n",
    "        if(dot[1] > max_y):\n",
    "            max_y = dot[1]\n",
    "\n",
    "paper = np.zeros((max_y+1, max_x+1))\n",
    "for dot in dots:\n",
    "    paper[dot[1],dot[0]] = 1\n",
    "\n",
    "for fold in folds:\n",
    "    if fold[0] == \"y\":\n",
    "        print(\"beginning\", fold, paper.shape)\n",
    "        new_paper = paper[0:(fold[1]-1),:]\n",
    "        old_paper = paper[(fold[1]+1):,:]\n",
    "        old_paper_flipped = np.fliplr(np.rot90(old_paper,-2))\n",
    "    if fold[0] == \"x\":\n",
    "        new_paper = paper[:,0:fold[1]]\n",
    "        old_paper = paper[:,fold[1]+1:]\n",
    "\n",
    "        old_paper_flipped = np.flipud(np.rot90(old_paper,-2))\n",
    "    paper = new_paper + old_paper_flipped\n",
    "\n",
    "def color_sign(x):\n",
    "    c = colorama.Fore.GREEN if x > 1 else colorama.Fore.RED\n",
    "    return f'{c}{x}'\n",
    "paper[np.where(paper > 0)] = 8\n",
    "print(paper)"
   ]
  },
  {
   "cell_type": "code",
   "execution_count": null,
   "metadata": {},
   "outputs": [],
   "source": []
  }
 ],
 "metadata": {
  "interpreter": {
   "hash": "1604f67193f19b8ce18236368d780003becd5f36dc70c5000bb869999753e6a7"
  },
  "kernelspec": {
   "display_name": "Python 3.8.10 64-bit (windows store)",
   "language": "python",
   "name": "python3"
  },
  "language_info": {
   "codemirror_mode": {
    "name": "ipython",
    "version": 3
   },
   "file_extension": ".py",
   "mimetype": "text/x-python",
   "name": "python",
   "nbconvert_exporter": "python",
   "pygments_lexer": "ipython3",
   "version": "3.8.10"
  },
  "orig_nbformat": 4
 },
 "nbformat": 4,
 "nbformat_minor": 2
}
