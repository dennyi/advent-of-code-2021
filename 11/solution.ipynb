{
 "cells": [
  {
   "cell_type": "code",
   "execution_count": 17,
   "metadata": {},
   "outputs": [],
   "source": []
  },
  {
   "cell_type": "code",
   "execution_count": 148,
   "metadata": {},
   "outputs": [
    {
     "name": "stdout",
     "output_type": "stream",
     "text": [
      "519\n",
      "[[0 0 0 0 0 0 0 0 0 0]\n",
      " [0 0 0 0 0 0 0 0 0 0]\n",
      " [0 0 0 0 0 0 0 0 0 0]\n",
      " [0 0 0 0 0 0 0 0 0 0]\n",
      " [0 0 0 0 0 0 0 0 0 0]\n",
      " [0 0 0 0 0 0 0 0 0 0]\n",
      " [0 0 0 0 0 0 0 0 0 0]\n",
      " [0 0 0 0 0 0 0 0 0 0]\n",
      " [0 0 0 0 0 0 0 0 0 0]\n",
      " [0 0 0 0 0 0 0 0 0 0]] 8225\n"
     ]
    }
   ],
   "source": [
    "file1 = open('input.txt', 'r')\n",
    "lines = file1.read().split('\\n')\n",
    "\n",
    "octopi_grid = np.zeros((len(lines), len(lines[0])), dtype=int)\n",
    "for i in range(0, len(lines)):\n",
    "    octopi_grid[i,:] = list(lines[i])\n",
    "total_flashes = 0\n",
    "\n",
    "def process_flash(indexes, grid, debug):\n",
    "    for i in range(0, len(indexes[0])):\n",
    "        if indexes[1][i]-1 >= 0:\n",
    "            grid[max(0, indexes[0][i]-1):min(grid.shape[0], indexes[0][i]+2), max(0, indexes[1][i]-1)] += 1\n",
    "\n",
    "        grid[max(0, indexes[0][i]-1):min(grid.shape[0], indexes[0][i]+2), indexes[1][i]] += 1\n",
    "        if indexes[1][i]+1 <= grid.shape[1]-1:\n",
    "            grid[max(0, indexes[0][i]-1):min(grid.shape[0], indexes[0][i]+2), min(grid.shape[1]-1, indexes[1][i]+1)] += 1\n",
    "\n",
    "        if debug == True:\n",
    "            grid[indexes[0][i], indexes[1][i]] = 0\n",
    "            print(grid)\n",
    "    grid[indexes] = 0\n",
    "    return grid\n",
    "def clear_all_flashed_octopi(all_indexes, grid):\n",
    "    for indexes in all_indexes:\n",
    "        grid[indexes] = 0\n",
    "    return grid\n",
    "\n",
    "def process_grid_flashes(grid, debug=False):\n",
    "    global total_flashes\n",
    "    all_indexes = []\n",
    "    flash_indexes = np.where(grid > 9)\n",
    "    total_flashes += len(flash_indexes[0])\n",
    "    all_indexes.append(flash_indexes);\n",
    "    while len(flash_indexes[0]) > 0:\n",
    "        grid = process_flash(flash_indexes, grid, debug)\n",
    "        flash_indexes = np.where(grid > 9)\n",
    "        total_flashes += len(flash_indexes[0])\n",
    "        all_indexes.append(flash_indexes);\n",
    "        grid = clear_all_flashed_octopi(all_indexes, grid)\n",
    "    return grid\n",
    "\n",
    "for i in range(0, 1000):\n",
    "    octopi_grid = process_grid_flashes(octopi_grid+1)\n",
    "    if np.array_equal(octopi_grid, np.zeros((len(lines), len(lines[0])), dtype=int)):\n",
    "        print(i+1)\n",
    "        break\n",
    "print(octopi_grid, total_flashes)\n"
   ]
  }
 ],
 "metadata": {
  "interpreter": {
   "hash": "1604f67193f19b8ce18236368d780003becd5f36dc70c5000bb869999753e6a7"
  },
  "kernelspec": {
   "display_name": "Python 3.8.10 64-bit (windows store)",
   "language": "python",
   "name": "python3"
  },
  "language_info": {
   "codemirror_mode": {
    "name": "ipython",
    "version": 3
   },
   "file_extension": ".py",
   "mimetype": "text/x-python",
   "name": "python",
   "nbconvert_exporter": "python",
   "pygments_lexer": "ipython3",
   "version": "3.8.3"
  },
  "orig_nbformat": 4
 },
 "nbformat": 4,
 "nbformat_minor": 2
}
