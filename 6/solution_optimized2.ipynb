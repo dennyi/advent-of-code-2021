{
 "cells": [
  {
   "cell_type": "code",
   "execution_count": 2,
   "metadata": {},
   "outputs": [],
   "source": [
    "import numpy as np"
   ]
  },
  {
   "cell_type": "code",
   "execution_count": 9,
   "metadata": {},
   "outputs": [
    {
     "name": "stdout",
     "output_type": "stream",
     "text": [
      "1689540415957\n"
     ]
    }
   ],
   "source": [
    "file1 = open('input.txt', 'r')\n",
    "fishes = np.array(file1.read().split(','), dtype=int)\n",
    "fish_counters={}\n",
    "days = 256\n",
    "\n",
    "#init dictionary with empty values\n",
    "for i in range(0,9):\n",
    "    fish_counters[i] = 0\n",
    "\n",
    "#fill dictionary with initial fish population\n",
    "for i in fishes:\n",
    "    if i in fish_counters:\n",
    "        fish_counters[i] = fish_counters[i]+1\n",
    "    else:\n",
    "        fish_counters[i] = 1\n",
    "\n",
    "for d in range(0, days):\n",
    "    new_list = {}\n",
    "    for i in range(0,9):\n",
    "        new_list[i] = 0\n",
    "    for i in range(0,9):\n",
    "        new_list[i-1] = fish_counters[i] #move all the fish one day closer to reproduction\n",
    "\n",
    "    new_ones = new_list.pop(-1) #all fish that are ready to reproduce\n",
    "    new_list[8] = new_ones #brand new fish\n",
    "    new_list[6] = new_list[6] + new_ones #old fish that have reproduced\n",
    "    fish_counters = new_list\n",
    "\n",
    "#count the fish population\n",
    "sum = 0\n",
    "for i in fish_counters.keys():\n",
    "    sum += fish_counters[i]\n",
    "print(sum)"
   ]
  },
  {
   "cell_type": "code",
   "execution_count": 5,
   "metadata": {},
   "outputs": [
    {
     "name": "stdout",
     "output_type": "stream",
     "text": [
      "1689540415957\n"
     ]
    }
   ],
   "source": [
    "file1 = open('input.txt', 'r')\n",
    "fishes = np.array(file1.read().split(','), dtype=int)\n",
    "fish_counters={}\n",
    "days = 256\n",
    "for i in range(0,9):\n",
    "    fish_counters[i] = 0\n",
    "for i in fishes:\n",
    "    if i in fish_counters:\n",
    "        fish_counters[i] = fish_counters[i]+1\n",
    "    else:\n",
    "        fish_counters[i] = 1\n",
    "for d in range(0, days):\n",
    "    new_list = {}\n",
    "    for i in range(0,9):\n",
    "        new_list[i] = 0\n",
    "    for i in range(0,8):\n",
    "        new_list[i] = fish_counters[i+1]\n",
    "    new_list[6] = fish_counters[0] + fish_counters[7]\n",
    "    new_list[8] = fish_counters[0]\n",
    "    fish_counters = new_list\n",
    "\n",
    "sum = 0\n",
    "for i in fish_counters.keys():\n",
    "    sum += fish_counters[i]\n",
    "print(sum)"
   ]
  }
 ],
 "metadata": {
  "interpreter": {
   "hash": "1604f67193f19b8ce18236368d780003becd5f36dc70c5000bb869999753e6a7"
  },
  "kernelspec": {
   "display_name": "Python 3.8.10 64-bit (windows store)",
   "language": "python",
   "name": "python3"
  },
  "language_info": {
   "codemirror_mode": {
    "name": "ipython",
    "version": 3
   },
   "file_extension": ".py",
   "mimetype": "text/x-python",
   "name": "python",
   "nbconvert_exporter": "python",
   "pygments_lexer": "ipython3",
   "version": "3.8.3"
  },
  "orig_nbformat": 4
 },
 "nbformat": 4,
 "nbformat_minor": 2
}
