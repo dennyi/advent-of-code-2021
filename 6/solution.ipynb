{
 "cells": [
  {
   "cell_type": "code",
   "execution_count": null,
   "metadata": {},
   "outputs": [],
   "source": [
    "import numpy as np"
   ]
  },
  {
   "cell_type": "code",
   "execution_count": 8,
   "metadata": {},
   "outputs": [],
   "source": [
    "file1 = open('input.txt', 'r')\n",
    "fishes = file1.read().split(',')\n",
    "fishes = [ int(fish) for fish in fishes]\n",
    "days = 256\n",
    "for d in range(0,days):\n",
    "    for i in range(0, len(fishes)):\n",
    "        fishes[i] -= 1\n",
    "        if fishes[i] <= -1:\n",
    "            fishes[i] = 6\n",
    "            fishes.append(8)\n",
    "\n",
    "print(len(fishes))"
   ]
  }
 ],
 "metadata": {
  "interpreter": {
   "hash": "1604f67193f19b8ce18236368d780003becd5f36dc70c5000bb869999753e6a7"
  },
  "kernelspec": {
   "display_name": "Python 3.8.10 64-bit (windows store)",
   "language": "python",
   "name": "python3"
  },
  "language_info": {
   "codemirror_mode": {
    "name": "ipython",
    "version": 3
   },
   "file_extension": ".py",
   "mimetype": "text/x-python",
   "name": "python",
   "nbconvert_exporter": "python",
   "pygments_lexer": "ipython3",
   "version": "3.8.3"
  },
  "orig_nbformat": 4
 },
 "nbformat": 4,
 "nbformat_minor": 2
}
