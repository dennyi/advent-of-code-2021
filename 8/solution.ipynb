{
 "cells": [
  {
   "cell_type": "code",
   "execution_count": 2,
   "metadata": {},
   "outputs": [],
   "source": [
    "import numpy as np\n",
    "import math"
   ]
  },
  {
   "cell_type": "code",
   "execution_count": 1,
   "metadata": {},
   "outputs": [
    {
     "name": "stdout",
     "output_type": "stream",
     "text": [
      "367\n"
     ]
    }
   ],
   "source": [
    "file1 = open('input.txt', 'r')\n",
    "lines = file1.read().split('\\n')\n",
    "lines = [tuple(line.split(' | ')) for line in lines]\n",
    "lines = [tuple([line[0].split(' '), line[1].split(\" \")]) for line in lines]\n",
    "\n",
    "unique_digit_value_lenghts = { 2:1, 4:4, 3:7, 7:8}\n",
    "unique_digit_values_in_output = 0\n",
    "\n",
    "for line in lines:\n",
    "    for value in line[1]:\n",
    "        if(len(value) in unique_digit_value_lenghts):\n",
    "            unique_digit_values_in_output += 1\n",
    "\n",
    "print(unique_digit_values_in_output)\n"
   ]
  },
  {
   "cell_type": "code",
   "execution_count": 1,
   "metadata": {},
   "outputs": [
    {
     "name": "stdout",
     "output_type": "stream",
     "text": [
      "974512\n"
     ]
    }
   ],
   "source": [
    "file1 = open('input.txt', 'r')\n",
    "lines = file1.read().split('\\n')\n",
    "lines = [tuple(line.split(' | ')) for line in lines]\n",
    "lines = [tuple([line[0].split(' '), line[1].split(\" \")]) for line in lines]\n",
    "\n",
    "unique_digit_value_lenghts = { 2:1, 4:4, 3:7, 7:8}\n",
    "\n",
    "\n",
    "\n",
    "def find_codes_of_length_and_sort(length, codes):\n",
    "    found_codes = []\n",
    "    for code in codes[0]:\n",
    "        if len(code) == length:\n",
    "            found_codes.append(''.join(sorted(code)))\n",
    "    return found_codes\n",
    "\n",
    "def find_different_characters(code1, code2):\n",
    "    code_shorter = code1 if len(code1) <= len(code2) else code2\n",
    "    code_longer = code1 if len(code1) > len(code2) else code2\n",
    "    different_chars = []\n",
    "    for i in range(0, len(code_longer)):\n",
    "        if(not code_longer[i] in code_shorter):\n",
    "            different_chars.append(code_longer[i])\n",
    "    return different_chars\n",
    "\n",
    "def find_codes_containing_chars(chars, codes):\n",
    "    found_codes = []\n",
    "    for code in codes:\n",
    "        contains_all_chars = True\n",
    "        for char in chars:\n",
    "            if not char in code:\n",
    "                contains_all_chars = False\n",
    "        if(contains_all_chars == True):\n",
    "            found_codes.append(code)\n",
    "    return found_codes\n",
    "\n",
    "def find_codes_not_containing_chars(chars, codes):\n",
    "    found_codes = []\n",
    "    for code in codes:\n",
    "        not_contains_any_chars = True\n",
    "        for char in chars:\n",
    "            if char in code:\n",
    "                not_contains_any_chars = False\n",
    "        if(not_contains_any_chars == True):\n",
    "            found_codes.append(code)\n",
    "    return found_codes\n",
    "def find_codes_not_in_correct_codes(codes, correct_codes):\n",
    "    return [code for code in codes if not code in correct_codes.values()] \n",
    "\n",
    "entry_values = [];\n",
    "for line in lines:\n",
    "    correct_codes = {}\n",
    "\n",
    "\n",
    "    # Its uneffective to compute the codes of lenghts for 6 and 5 segments again every time, also sorting it every time. Better approach would be to sort all the codes once and then group them by lengths, that way you dont have to sort or look for them multiple times\n",
    "    correct_codes[8] = find_codes_of_length_and_sort(7, line)[0]\n",
    "    correct_codes[4] = find_codes_of_length_and_sort(4, line)[0]\n",
    "    correct_codes[1] = find_codes_of_length_and_sort(2, line)[0]\n",
    "    correct_codes[7] = find_codes_of_length_and_sort(3, line)[0]\n",
    "    correct_codes[3] = find_codes_containing_chars(correct_codes[7], find_codes_of_length_and_sort(5,line))[0]\n",
    "    correct_codes[9] = find_codes_containing_chars(correct_codes[3], find_codes_of_length_and_sort(6, line))[0]\n",
    "    correct_codes[0] = find_codes_not_in_correct_codes(find_codes_containing_chars(correct_codes[7], find_codes_of_length_and_sort(6, line)), correct_codes)[0]\n",
    "    correct_codes[6] = find_codes_not_in_correct_codes(find_codes_of_length_and_sort(6, line), correct_codes)[0]\n",
    "\n",
    "    e_char = find_different_characters(correct_codes[8], correct_codes[9])\n",
    "    correct_codes[2] = find_codes_containing_chars(e_char, find_codes_not_in_correct_codes(find_codes_of_length_and_sort(5, line), correct_codes))[0]\n",
    "    correct_codes[5] = find_codes_not_in_correct_codes(find_codes_of_length_and_sort(5, line), correct_codes)[0]\n",
    "\n",
    "    value_of_entry = []\n",
    "    for code in line[1]:\n",
    "        value_of_entry.append(list(correct_codes.keys())[list(correct_codes.values()).index(''.join(sorted(code)))])\n",
    "    entry_values.append(int(''.join([str(int) for int in value_of_entry])))\n",
    "    \n",
    "print(sum(entry_values))\n"
   ]
  }
 ],
 "metadata": {
  "interpreter": {
   "hash": "1604f67193f19b8ce18236368d780003becd5f36dc70c5000bb869999753e6a7"
  },
  "kernelspec": {
   "display_name": "Python 3.8.10 64-bit (windows store)",
   "language": "python",
   "name": "python3"
  },
  "language_info": {
   "codemirror_mode": {
    "name": "ipython",
    "version": 3
   },
   "file_extension": ".py",
   "mimetype": "text/x-python",
   "name": "python",
   "nbconvert_exporter": "python",
   "pygments_lexer": "ipython3",
   "version": "3.8.3"
  },
  "orig_nbformat": 4
 },
 "nbformat": 4,
 "nbformat_minor": 2
}
