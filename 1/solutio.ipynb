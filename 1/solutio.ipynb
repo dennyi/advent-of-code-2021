{
 "cells": [
  {
   "cell_type": "code",
   "execution_count": 2,
   "metadata": {},
   "outputs": [
    {
     "name": "stdout",
     "output_type": "stream",
     "text": [
      "1676\n"
     ]
    }
   ],
   "source": [
    "file1 = open('input.txt', 'r')\n",
    "lines = file1.readlines()\n",
    "\n",
    "increases = 0\n",
    "last_line = None\n",
    "lines_total = 0\n",
    "for line in lines:\n",
    "    lines_total += 1\n",
    "    if(last_line != None and int(line) > last_line):\n",
    "        increases += 1\n",
    "    last_line = int(line)\n",
    "\n",
    "\n",
    "print(increases)  \n"
   ]
  },
  {
   "cell_type": "code",
   "execution_count": 3,
   "metadata": {},
   "outputs": [
    {
     "name": "stdout",
     "output_type": "stream",
     "text": [
      "1706\n"
     ]
    }
   ],
   "source": [
    "file1 = open('input.txt', 'r')\n",
    "lines = file1.readlines()\n",
    "\n",
    "increases = 0\n",
    "last_sum = None\n",
    "lines_total = len(lines)\n",
    "\n",
    "def getSumFromIndex(index):\n",
    "    if(index <= lines_total - 3):\n",
    "        return int(lines[index]) + int(lines[index+1]) + int(lines[index+2])\n",
    "    else:\n",
    "        return 0\n",
    "\n",
    "for i in range(0, lines_total):\n",
    "    new_sum = getSumFromIndex(i)\n",
    "    if(last_sum != None and new_sum > last_sum ):\n",
    "        increases += 1\n",
    "    last_sum = new_sum\n",
    "\n",
    "print(increases)"
   ]
  }
 ],
 "metadata": {
  "interpreter": {
   "hash": "1604f67193f19b8ce18236368d780003becd5f36dc70c5000bb869999753e6a7"
  },
  "kernelspec": {
   "display_name": "Python 3.8.10 64-bit (windows store)",
   "language": "python",
   "name": "python3"
  },
  "language_info": {
   "codemirror_mode": {
    "name": "ipython",
    "version": 3
   },
   "file_extension": ".py",
   "mimetype": "text/x-python",
   "name": "python",
   "nbconvert_exporter": "python",
   "pygments_lexer": "ipython3",
   "version": "3.8.10"
  },
  "orig_nbformat": 4
 },
 "nbformat": 4,
 "nbformat_minor": 2
}
