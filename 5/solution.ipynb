{
 "cells": [
  {
   "cell_type": "code",
   "execution_count": null,
   "metadata": {},
   "outputs": [],
   "source": [
    "import numpy as np"
   ]
  },
  {
   "cell_type": "code",
   "execution_count": 17,
   "metadata": {},
   "outputs": [
    {
     "name": "stdout",
     "output_type": "stream",
     "text": [
      "18423\n"
     ]
    }
   ],
   "source": [
    "file1 = open('input.txt', 'r')\n",
    "lines = file1.read().split('\\n')\n",
    "vector_strings = [x.split(' -> ') for x in lines]\n",
    "# vectors = [[x[0].split(','), x[1].split(',')] for x in vectors]\n",
    "vectors = []\n",
    "for i in range(0, len(vector_strings)):\n",
    "    line_segment = [tuple(map(int,vector_strings[i][0].split(','))), tuple(map(int,vector_strings[i][1].split(',')))]\n",
    "    vectors.append(line_segment)\n",
    "\n",
    "\n",
    "def expand_line(vector1, vector2):\n",
    "    line = []\n",
    "    if(vector1[0]==vector2[0]):\n",
    "        step = 1 if(vector1[1] < vector2[1]) else -1\n",
    "        for i in range(vector1[1], vector2[1]+step, step):\n",
    "            line.append(tuple([vector1[0], i]))\n",
    "    elif(vector1[1] == vector2[1]):\n",
    "        step = 1 if(vector1[0] < vector2[0]) else -1\n",
    "        for i in range(vector1[0], vector2[0]+step, step):\n",
    "            line.append(tuple([i, vector1[1]]))\n",
    "    elif(abs(vector1[0] - vector2[0]) == abs(vector1[1] - vector2[1])):\n",
    "        stepx = 1 if(vector1[0] < vector2[0]) else -1\n",
    "        stepy = 1 if(vector1[1] < vector2[1]) else -1\n",
    "        no_steps = abs(vector1[0] - vector2[0])\n",
    "        for i in range(0, no_steps+1):\n",
    "            line.append(tuple([vector1[0] + (stepx*i), vector1[1] + (stepy*i)]))\n",
    "    return line\n",
    "\n",
    "overlaps = {}\n",
    "for vector in vectors:\n",
    "    vector_line = expand_line(vector[0], vector[1])\n",
    "    if len(vector_line) > 0:\n",
    "        for line_point in vector_line:\n",
    "            overlaps[line_point] = 1 if not line_point in overlaps else overlaps[line_point] + 1\n",
    "\n",
    "\n",
    "print(len([overlap for point, overlap in overlaps.items() if overlap > 1]))"
   ]
  }
 ],
 "metadata": {
  "interpreter": {
   "hash": "1604f67193f19b8ce18236368d780003becd5f36dc70c5000bb869999753e6a7"
  },
  "kernelspec": {
   "display_name": "Python 3.8.10 64-bit (windows store)",
   "language": "python",
   "name": "python3"
  },
  "language_info": {
   "codemirror_mode": {
    "name": "ipython",
    "version": 3
   },
   "file_extension": ".py",
   "mimetype": "text/x-python",
   "name": "python",
   "nbconvert_exporter": "python",
   "pygments_lexer": "ipython3",
   "version": "3.8.3"
  },
  "orig_nbformat": 4
 },
 "nbformat": 4,
 "nbformat_minor": 2
}
