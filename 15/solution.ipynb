{
 "cells": [
  {
   "cell_type": "code",
   "execution_count": 1,
   "metadata": {},
   "outputs": [],
   "source": [
    "import numpy as np\n",
    "import heapq"
   ]
  },
  {
   "cell_type": "code",
   "execution_count": 12,
   "metadata": {},
   "outputs": [
    {
     "name": "stdout",
     "output_type": "stream",
     "text": [
      "2809\n"
     ]
    }
   ],
   "source": [
    "file1 = open('input.txt', 'r')\n",
    "lines = file1.read().split('\\n')\n",
    "\n",
    "danger_grid = np.zeros((len(lines), len(lines[0])), dtype=int)\n",
    "for i in range(0, len(lines)):\n",
    "    danger_grid[i,:] = list(lines[i])\n",
    "\n",
    "\n",
    "larger_danger_grid = np.zeros([danger_grid.shape[0]*5, danger_grid.shape[1]*5])\n",
    "for i in range(5):\n",
    "    for ii in range(5):\n",
    "        larger_danger_grid[i*danger_grid.shape[0]:(i+1)*danger_grid.shape[0], ii*danger_grid.shape[1]:(ii+1)*danger_grid.shape[1]] = danger_grid[:] + (i+ii)\n",
    "\n",
    "overflow_indexes = np.where(larger_danger_grid > 9)\n",
    "while len(overflow_indexes[0] > 0):\n",
    "    larger_danger_grid[overflow_indexes] -= 9\n",
    "    overflow_indexes = np.where(larger_danger_grid > 9)\n",
    "\n",
    "danger_grid = larger_danger_grid\n",
    "\n",
    "\n",
    "least_danger_grid = np.ones(danger_grid.shape, dtype=int) * 99999999\n",
    "prev_nodes = []\n",
    "for i in range(danger_grid.shape[0]):\n",
    "    prev_nodes.append([tuple([0,0]) for x in range(danger_grid.shape[1])])\n",
    "prev_node_grid = np.array(prev_nodes);\n",
    "unvisited_nodes = []\n",
    "visited_nodes = []\n",
    "def get_available_steps(position):\n",
    "    steps = []\n",
    "    if position[0]+1 < danger_grid.shape[0]:\n",
    "        steps.append(tuple([position[0]+1, position[1]]))\n",
    "    if position[1]+1 < danger_grid.shape[1]:\n",
    "        steps.append(tuple([position[0], position[1]+1]))\n",
    "    if position[0]-1 > 0:\n",
    "        steps.append(tuple([position[0]-1, position[1]]))\n",
    "    if position[1]-1 > 0:\n",
    "        steps.append(tuple([position[0], position[1]-1]))\n",
    "    return steps\n",
    "\n",
    "def is_target_position(position):\n",
    "    return position[0] == danger_grid.shape[0]-1 and position[1] == danger_grid.shape[1]-1\n",
    "\n",
    "\n",
    "\n",
    "def find_path(position):\n",
    "    least_danger_grid[position[0], position[1]] = 0\n",
    "    heapq.heappush(unvisited_nodes, (0, position))\n",
    "    while len(unvisited_nodes) > 0:\n",
    "        node = heapq.heappop(unvisited_nodes)\n",
    "        current_danger = node[0]\n",
    "        node = node[1]\n",
    "        if(current_danger > least_danger_grid[node[0], node[1]]):\n",
    "            continue\n",
    "        available_steps = get_available_steps(node)\n",
    "        if is_target_position(node):\n",
    "            break\n",
    "        for step in available_steps:\n",
    "            step_danger = current_danger + danger_grid[step[0], step[1]]\n",
    "            if least_danger_grid[step[0], step[1]] > step_danger:\n",
    "                least_danger_grid[step[0], step[1]] = step_danger\n",
    "                heapq.heappush(unvisited_nodes, (step_danger, step))\n",
    "    return least_danger_grid[-1, -1]\n",
    "\n",
    "print(find_path((0, 0)))\n"
   ]
  }
 ],
 "metadata": {
  "interpreter": {
   "hash": "1604f67193f19b8ce18236368d780003becd5f36dc70c5000bb869999753e6a7"
  },
  "kernelspec": {
   "display_name": "Python 3.8.10 64-bit (windows store)",
   "language": "python",
   "name": "python3"
  },
  "language_info": {
   "codemirror_mode": {
    "name": "ipython",
    "version": 3
   },
   "file_extension": ".py",
   "mimetype": "text/x-python",
   "name": "python",
   "nbconvert_exporter": "python",
   "pygments_lexer": "ipython3",
   "version": "3.8.3"
  },
  "orig_nbformat": 4
 },
 "nbformat": 4,
 "nbformat_minor": 2
}
