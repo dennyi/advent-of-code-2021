{
 "cells": [
  {
   "cell_type": "code",
   "execution_count": 2,
   "metadata": {},
   "outputs": [],
   "source": [
    "import numpy as np\n",
    "import math"
   ]
  },
  {
   "cell_type": "code",
   "execution_count": 9,
   "metadata": {},
   "outputs": [
    {
     "name": "stdout",
     "output_type": "stream",
     "text": [
      "488\n",
      "(488, 99266250)\n"
     ]
    }
   ],
   "source": [
    "file1 = open('input.txt', 'r')\n",
    "crabs = file1.read().split(',')\n",
    "crabs = [int(crab) for crab in crabs]\n",
    "\n",
    "average_crab_position = math.floor(sum(crabs) / len(crabs))\n",
    "\n",
    "def get_fuel_for_movemenet(movement):\n",
    "    return sum(range(0,movement+1))\n",
    "\n",
    "def calculate_fuel_for_position(position, crabs):\n",
    "\n",
    "    return sum([(get_fuel_for_movemenet(abs(x - position))) for x in crabs])\n",
    "\n",
    "\n",
    "\n",
    "def calculate_best_fuel_position(starting_position, crabs):\n",
    "    least_fuel_needed = 0\n",
    "    step = 0\n",
    "    \n",
    "    fuel_current = calculate_fuel_for_position(starting_position, crabs)\n",
    "    #get fuel needed when going up from starting position\n",
    "    current_position_up = starting_position + 1\n",
    "    fuel_up = calculate_fuel_for_position(current_position_up, crabs)\n",
    "    \n",
    "    #get fuel when going down from sp\n",
    "    current_position_down = starting_position - 1\n",
    "    fuel_down = calculate_fuel_for_position(current_position_down, crabs)\n",
    "    \n",
    "\n",
    "    if(min([fuel_up, fuel_down, fuel_current]) == fuel_current):\n",
    "        return (starting_position, fuel_current)\n",
    "\n",
    "    #set the direction in which to search for the fuel global minimum\n",
    "    step = 1 if fuel_up < fuel_down else -1\n",
    "\n",
    "    current_position = current_position_up if fuel_up < fuel_down else current_position_down\n",
    "\n",
    "    least_fuel_needed = fuel_up if fuel_up < fuel_down else fuel_down\n",
    "    last_fuel_needed = least_fuel_needed\n",
    "    least_fuel_position = current_position\n",
    "\n",
    "    for i in range(0, max(crabs) - min(crabs)):\n",
    "        current_position = current_position+step\n",
    "        new_fuel_needed = calculate_fuel_for_position(current_position, crabs)\n",
    "        if new_fuel_needed < least_fuel_needed:\n",
    "            least_fuel_needed = new_fuel_needed\n",
    "            least_fuel_position = current_position\n",
    "        if new_fuel_needed > least_fuel_needed:\n",
    "            break\n",
    "\n",
    "    return (least_fuel_position, least_fuel_needed)\n",
    "        \n",
    "print(average_crab_position)\n",
    "print(calculate_best_fuel_position(average_crab_position, crabs))\n",
    "\n"
   ]
  }
 ],
 "metadata": {
  "interpreter": {
   "hash": "1604f67193f19b8ce18236368d780003becd5f36dc70c5000bb869999753e6a7"
  },
  "kernelspec": {
   "display_name": "Python 3.8.10 64-bit (windows store)",
   "language": "python",
   "name": "python3"
  },
  "language_info": {
   "codemirror_mode": {
    "name": "ipython",
    "version": 3
   },
   "file_extension": ".py",
   "mimetype": "text/x-python",
   "name": "python",
   "nbconvert_exporter": "python",
   "pygments_lexer": "ipython3",
   "version": "3.8.3"
  },
  "orig_nbformat": 4
 },
 "nbformat": 4,
 "nbformat_minor": 2
}
