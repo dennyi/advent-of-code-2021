{
 "cells": [
  {
   "cell_type": "code",
   "execution_count": 27,
   "metadata": {},
   "outputs": [
    {
     "name": "stdout",
     "output_type": "stream",
     "text": [
      "2576 1519\n",
      "3912944\n"
     ]
    }
   ],
   "source": [
    "file1 = open('input.txt', 'r')\n",
    "lines = file1.read().splitlines()\n",
    "\n",
    "gamma_rate = []\n",
    "for line in lines:\n",
    "    for i in range(0, len(line)):\n",
    "        if len(gamma_rate) <= i:\n",
    "            gamma_rate.append(0)\n",
    "        gamma_rate[i] += int(line[i])\n",
    "for i in range(0, len(gamma_rate)):\n",
    "    gamma_rate[i] /= len(lines)\n",
    "    gamma_rate[i] = '1' if gamma_rate[i] > 0.5 else '0'\n",
    "\n",
    "epsilon_rate = gamma_rate.copy();\n",
    "for i in range(0, len(epsilon_rate)):\n",
    "    epsilon_rate[i] = '1' if epsilon_rate[i] == '0' else '0'\n",
    "\n",
    "gamma_rate = int(''.join(gamma_rate), 2)\n",
    "epsilon_rate = int(''.join(epsilon_rate), 2)\n",
    "\n",
    "print(gamma_rate, epsilon_rate)\n",
    "print(gamma_rate * epsilon_rate)"
   ]
  },
  {
   "cell_type": "code",
   "execution_count": 44,
   "metadata": {},
   "outputs": [
    {
     "name": "stdout",
     "output_type": "stream",
     "text": [
      "['000011000110', '100110100101', '101100101001', '001100010000', '011000100100']\n"
     ]
    }
   ],
   "source": [
    "file1 = open('input.txt', 'r')\n",
    "lines = file1.read().splitlines()\n",
    "print(lines[:5])"
   ]
  },
  {
   "cell_type": "code",
   "execution_count": 22,
   "metadata": {},
   "outputs": [
    {
     "name": "stdout",
     "output_type": "stream",
     "text": [
      "4996233\n"
     ]
    }
   ],
   "source": [
    "\n",
    "\n",
    "def find_oxygen_generator_rating(bit_arrays):\n",
    "    for i in range(0, len(bit_arrays[0])):\n",
    "        #find most common bit\n",
    "        common_bit = 0\n",
    "        for ii in range(0, len(bit_arrays)):\n",
    "            common_bit += int(bit_arrays[ii][i])\n",
    "        common_bit /= len(bit_arrays)\n",
    "        common_bit = '1' if common_bit >= 0.5 else '0'\n",
    "        index_offset = 0\n",
    "        for ii in range(0, len(bit_arrays)):\n",
    "            if bit_arrays[ii-index_offset][i] != common_bit:\n",
    "                bit_arrays.pop(ii-index_offset)\n",
    "                index_offset+=1\n",
    "                if(len(bit_arrays) == 1):\n",
    "                    return int(bit_arrays[0],2)\n",
    "\n",
    "def find_co2_rating(bit_arrays):\n",
    "    for i in range(0, len(bit_arrays[0])):\n",
    "        #find least common bit\n",
    "        common_bit = 0\n",
    "        for ii in range(0, len(bit_arrays)):\n",
    "            common_bit += int(bit_arrays[ii][i])\n",
    "        common_bit /= len(bit_arrays)\n",
    "        common_bit = '1' if common_bit < 0.5 else '0'\n",
    "        index_offset = 0\n",
    "        for ii in range(0, len(bit_arrays)):\n",
    "            if bit_arrays[ii-index_offset][i] != common_bit:\n",
    "                bit_arrays.pop(ii-index_offset)\n",
    "                index_offset+=1\n",
    "                if(len(bit_arrays) == 1):\n",
    "                    return int(bit_arrays[0],2)\n",
    "    \n",
    "file1 = open('input.txt', 'r')\n",
    "lines = file1.read().splitlines()\n",
    "\n",
    "\n",
    "oxygen_rating = find_oxygen_generator_rating(lines.copy())\n",
    "\n",
    "co2_rating = find_co2_rating(lines.copy())\n",
    "\n",
    "print(oxygen_rating *  co2_rating)\n"
   ]
  },
  {
   "cell_type": "code",
   "execution_count": 1,
   "metadata": {},
   "outputs": [],
   "source": [
    "import pandas as pd"
   ]
  },
  {
   "cell_type": "code",
   "execution_count": 7,
   "metadata": {},
   "outputs": [
    {
     "data": {
      "text/plain": [
       "0    1\n",
       "1    2\n",
       "2    3\n",
       "3    4\n",
       "4    5\n",
       "dtype: int64"
      ]
     },
     "execution_count": 7,
     "metadata": {},
     "output_type": "execute_result"
    }
   ],
   "source": [
    "pd.DataFrame({'Bob': ['I liked it.', 'It was awful.'], \n",
    "              'Sue': ['Pretty good.', 'Bland.']},\n",
    "             index=['Product A', 'Product B'])"
   ]
  },
  {
   "cell_type": "code",
   "execution_count": 9,
   "metadata": {},
   "outputs": [
    {
     "data": {
      "text/plain": [
       "0    11\n",
       "1    22\n",
       "2    33\n",
       "3    44\n",
       "4    55\n",
       "dtype: int64"
      ]
     },
     "execution_count": 9,
     "metadata": {},
     "output_type": "execute_result"
    }
   ],
   "source": [
    "pd.Series([11, 22, 33, 44, 55])\n"
   ]
  },
  {
   "cell_type": "code",
   "execution_count": 11,
   "metadata": {},
   "outputs": [
    {
     "data": {
      "text/plain": [
       "2015 Sales    30\n",
       "2016 Sales    35\n",
       "2017 Sales    40\n",
       "Name: Product A, dtype: int64"
      ]
     },
     "execution_count": 11,
     "metadata": {},
     "output_type": "execute_result"
    }
   ],
   "source": [
    "pd.Series([30, 35, 40], index=['2015 Sales', '2016 Sales', '2017 Sales'], name='Product A')"
   ]
  },
  {
   "cell_type": "code",
   "execution_count": 33,
   "metadata": {},
   "outputs": [
    {
     "data": {
      "text/html": [
       "<div>\n",
       "<style scoped>\n",
       "    .dataframe tbody tr th:only-of-type {\n",
       "        vertical-align: middle;\n",
       "    }\n",
       "\n",
       "    .dataframe tbody tr th {\n",
       "        vertical-align: top;\n",
       "    }\n",
       "\n",
       "    .dataframe thead th {\n",
       "        text-align: right;\n",
       "    }\n",
       "</style>\n",
       "<table border=\"1\" class=\"dataframe\">\n",
       "  <thead>\n",
       "    <tr style=\"text-align: right;\">\n",
       "      <th></th>\n",
       "      <th>0</th>\n",
       "    </tr>\n",
       "  </thead>\n",
       "  <tbody>\n",
       "    <tr>\n",
       "      <th>0</th>\n",
       "      <td>00100</td>\n",
       "    </tr>\n",
       "    <tr>\n",
       "      <th>1</th>\n",
       "      <td>11110</td>\n",
       "    </tr>\n",
       "    <tr>\n",
       "      <th>2</th>\n",
       "      <td>10110</td>\n",
       "    </tr>\n",
       "    <tr>\n",
       "      <th>3</th>\n",
       "      <td>10111</td>\n",
       "    </tr>\n",
       "    <tr>\n",
       "      <th>4</th>\n",
       "      <td>10101</td>\n",
       "    </tr>\n",
       "    <tr>\n",
       "      <th>5</th>\n",
       "      <td>01111</td>\n",
       "    </tr>\n",
       "    <tr>\n",
       "      <th>6</th>\n",
       "      <td>00111</td>\n",
       "    </tr>\n",
       "    <tr>\n",
       "      <th>7</th>\n",
       "      <td>11100</td>\n",
       "    </tr>\n",
       "    <tr>\n",
       "      <th>8</th>\n",
       "      <td>10000</td>\n",
       "    </tr>\n",
       "    <tr>\n",
       "      <th>9</th>\n",
       "      <td>11001</td>\n",
       "    </tr>\n",
       "    <tr>\n",
       "      <th>10</th>\n",
       "      <td>00010</td>\n",
       "    </tr>\n",
       "    <tr>\n",
       "      <th>11</th>\n",
       "      <td>01010</td>\n",
       "    </tr>\n",
       "  </tbody>\n",
       "</table>\n",
       "</div>"
      ],
      "text/plain": [
       "        0\n",
       "0   00100\n",
       "1   11110\n",
       "2   10110\n",
       "3   10111\n",
       "4   10101\n",
       "5   01111\n",
       "6   00111\n",
       "7   11100\n",
       "8   10000\n",
       "9   11001\n",
       "10  00010\n",
       "11  01010"
      ]
     },
     "execution_count": 33,
     "metadata": {},
     "output_type": "execute_result"
    }
   ],
   "source": [
    "diagnostic_data = pd.read_csv(\"input_test.txt\", header=None, dtype=bin )\n",
    "diagnostic_data"
   ]
  }
 ],
 "metadata": {
  "interpreter": {
   "hash": "1604f67193f19b8ce18236368d780003becd5f36dc70c5000bb869999753e6a7"
  },
  "kernelspec": {
   "display_name": "Python 3.8.10 64-bit (windows store)",
   "language": "python",
   "name": "python3"
  },
  "language_info": {
   "codemirror_mode": {
    "name": "ipython",
    "version": 3
   },
   "file_extension": ".py",
   "mimetype": "text/x-python",
   "name": "python",
   "nbconvert_exporter": "python",
   "pygments_lexer": "ipython3",
   "version": "3.8.3"
  },
  "orig_nbformat": 4
 },
 "nbformat": 4,
 "nbformat_minor": 2
}
