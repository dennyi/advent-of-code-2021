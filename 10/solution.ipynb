{
 "cells": [
  {
   "cell_type": "code",
   "execution_count": 17,
   "metadata": {},
   "outputs": [],
   "source": [
    "import numpy as np\n",
    "import math"
   ]
  },
  {
   "cell_type": "code",
   "execution_count": 25,
   "metadata": {},
   "outputs": [
    {
     "name": "stdout",
     "output_type": "stream",
     "text": [
      "3122628974\n"
     ]
    }
   ],
   "source": [
    "file1 = open('input.txt', 'r')\n",
    "lines = file1.read().split('\\n')\n",
    "\n",
    "opening_brackets = \"([{<\"\n",
    "closing_brackets = \")]}>\"\n",
    "bracket_error_scores = {\")\" : 3, \"]\" : 57, \"}\": 1197, \">\": 25137}\n",
    "bracket_autocomplete_scores = {\")\" : 1, \"]\" : 2, \"}\": 3, \">\": 4}\n",
    "\n",
    "\n",
    "\n",
    "def get_opening_bracket_from_closing(bracket):\n",
    "    bracket_index = closing_brackets.index(bracket);\n",
    "    return opening_brackets[bracket_index]\n",
    "\n",
    "def get_closing_bracket_from_opening(bracket):\n",
    "    bracket_index = opening_brackets.index(bracket);\n",
    "    return closing_brackets[bracket_index]\n",
    "\n",
    "def get_autocomplete_score(stack):\n",
    "    score = 0\n",
    "    for char in stack:\n",
    "        score *= 5\n",
    "        score += bracket_autocomplete_scores[get_closing_bracket_from_opening(char)]\n",
    "    return score\n",
    "\n",
    "error_score = 0\n",
    "autocomplete_scores = []\n",
    "for line in lines:\n",
    "    brackets_stack = []\n",
    "    has_error = False\n",
    "    for char in line:\n",
    "        if char in opening_brackets:\n",
    "            brackets_stack.append(char)\n",
    "        elif char in closing_brackets and brackets_stack[-1] == get_opening_bracket_from_closing(char):\n",
    "            brackets_stack.pop()\n",
    "        else:\n",
    "            # print(f\"Expected {get_closing_bracket_from_opening(brackets_stack[-1])}, but found {char} instead.\")\n",
    "            error_score += bracket_scores[char]\n",
    "            has_error = True\n",
    "            break\n",
    "    if not has_error:\n",
    "        autocomplete_scores.append(get_autocomplete_score(brackets_stack[::-1]))\n",
    "    \n",
    "print(sorted(autocomplete_scores)[math.floor(len(autocomplete_scores)/2)])"
   ]
  }
 ],
 "metadata": {
  "interpreter": {
   "hash": "1604f67193f19b8ce18236368d780003becd5f36dc70c5000bb869999753e6a7"
  },
  "kernelspec": {
   "display_name": "Python 3.8.10 64-bit (windows store)",
   "language": "python",
   "name": "python3"
  },
  "language_info": {
   "codemirror_mode": {
    "name": "ipython",
    "version": 3
   },
   "file_extension": ".py",
   "mimetype": "text/x-python",
   "name": "python",
   "nbconvert_exporter": "python",
   "pygments_lexer": "ipython3",
   "version": "3.8.3"
  },
  "orig_nbformat": 4
 },
 "nbformat": 4,
 "nbformat_minor": 2
}
