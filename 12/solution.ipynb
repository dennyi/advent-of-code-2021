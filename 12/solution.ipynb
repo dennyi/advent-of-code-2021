{
 "cells": [
  {
   "cell_type": "code",
   "execution_count": 17,
   "metadata": {},
   "outputs": [
    {
     "name": "stdout",
     "output_type": "stream",
     "text": [
      "93572\n"
     ]
    }
   ],
   "source": [
    "file1 = open('input.txt', 'r')\n",
    "lines = file1.read().split('\\n')\n",
    "\n",
    "graph_edges = {}\n",
    "\n",
    "for line in lines:\n",
    "    path = line.split('-')\n",
    "    if(path[0] not in graph_edges):\n",
    "        graph_edges[path[0]] = []\n",
    "    graph_edges[path[0]].append(path[1])\n",
    "    if(path[1] not in graph_edges):\n",
    "        graph_edges[path[1]] = []\n",
    "    graph_edges[path[1]].append(path[0])\n",
    "\n",
    "\n",
    "def path_has_any_small_node_twice(path):\n",
    "    nodes = []\n",
    "    for node in path:\n",
    "        if node.islower() and node in nodes:\n",
    "            return True\n",
    "        nodes.append(node)\n",
    "    return False\n",
    "    \n",
    "def can_visit_node(node, path):\n",
    "    if node == \"start\":\n",
    "        return False\n",
    "    elif node.isupper():\n",
    "        return True\n",
    "    elif node.islower() and node not in path:\n",
    "        return True\n",
    "    elif node.islower() and path_has_any_small_node_twice(path):\n",
    "        return False\n",
    "    elif node.islower() and not path_has_any_small_node_twice(path):\n",
    "        return True\n",
    "        \n",
    "    return True\n",
    "\n",
    "\n",
    "def find_all_paths(starting_node, path = []):\n",
    "    connected_nodes =  graph_edges[starting_node]\n",
    "    sub_paths = []\n",
    "    for node in connected_nodes:\n",
    "        sub_path = path.copy()\n",
    "        sub_path.append(node);\n",
    "        if node == \"end\":\n",
    "            sub_paths.append( sub_path)\n",
    "            continue\n",
    "        elif not can_visit_node(node, path):\n",
    "            continue\n",
    "        sub_paths = sub_paths + find_all_paths(node, sub_path)\n",
    "    \n",
    "    return sub_paths\n",
    "\n",
    "all_paths = find_all_paths(\"start\", [\"start\"]);\n",
    "print(len(all_paths))"
   ]
  }
 ],
 "metadata": {
  "interpreter": {
   "hash": "1604f67193f19b8ce18236368d780003becd5f36dc70c5000bb869999753e6a7"
  },
  "kernelspec": {
   "display_name": "Python 3.8.10 64-bit (windows store)",
   "language": "python",
   "name": "python3"
  },
  "language_info": {
   "codemirror_mode": {
    "name": "ipython",
    "version": 3
   },
   "file_extension": ".py",
   "mimetype": "text/x-python",
   "name": "python",
   "nbconvert_exporter": "python",
   "pygments_lexer": "ipython3",
   "version": "3.8.3"
  },
  "orig_nbformat": 4
 },
 "nbformat": 4,
 "nbformat_minor": 2
}
